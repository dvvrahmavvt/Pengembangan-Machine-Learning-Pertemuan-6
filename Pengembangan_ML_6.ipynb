{
  "nbformat": 4,
  "nbformat_minor": 0,
  "metadata": {
    "colab": {
      "provenance": []
    },
    "kernelspec": {
      "name": "python3",
      "display_name": "Python 3"
    },
    "language_info": {
      "name": "python"
    }
  },
  "cells": [
    {
      "cell_type": "code",
      "execution_count": 2,
      "metadata": {
        "id": "5Fry90BOaAfS"
      },
      "outputs": [],
      "source": [
        "!mkdir Pengembangan_Machine_Learning6"
      ]
    },
    {
      "cell_type": "code",
      "source": [
        "cd Pengembangan_Machine_Learning6"
      ],
      "metadata": {
        "colab": {
          "base_uri": "https://localhost:8080/"
        },
        "id": "ZUmhxoVhbfJA",
        "outputId": "91b000ae-0933-442d-bc3b-da5aeaa2f2f6"
      },
      "execution_count": 3,
      "outputs": [
        {
          "output_type": "stream",
          "name": "stdout",
          "text": [
            "/content/Pengembangan_Machine_Learning6\n"
          ]
        }
      ]
    },
    {
      "cell_type": "code",
      "source": [
        "!pwd"
      ],
      "metadata": {
        "colab": {
          "base_uri": "https://localhost:8080/"
        },
        "id": "OJAtQ4-lbhyi",
        "outputId": "e1092364-5ec1-419e-ac93-cd196eb1d08f"
      },
      "execution_count": 4,
      "outputs": [
        {
          "output_type": "stream",
          "name": "stdout",
          "text": [
            "/content/Pengembangan_Machine_Learning6\n"
          ]
        }
      ]
    },
    {
      "cell_type": "code",
      "source": [
        "%%writefile requirements.txt\n",
        "streamlit\n",
        "pandas\n",
        "matplotlib\n",
        "seaborn\n",
        "numpy\n",
        "plotly"
      ],
      "metadata": {
        "colab": {
          "base_uri": "https://localhost:8080/"
        },
        "id": "0WcNDpiObj-B",
        "outputId": "80ac802f-42d6-480a-9be2-ec89dde057f5"
      },
      "execution_count": 5,
      "outputs": [
        {
          "output_type": "stream",
          "name": "stdout",
          "text": [
            "Writing requirements.txt\n"
          ]
        }
      ]
    },
    {
      "cell_type": "code",
      "source": [
        "!ls"
      ],
      "metadata": {
        "colab": {
          "base_uri": "https://localhost:8080/"
        },
        "id": "MzApiYqVb4ke",
        "outputId": "5016e663-cbe9-492f-bf40-ce4dbe14583d"
      },
      "execution_count": 6,
      "outputs": [
        {
          "output_type": "stream",
          "name": "stdout",
          "text": [
            "requirements.txt\n"
          ]
        }
      ]
    },
    {
      "cell_type": "code",
      "source": [
        "!cat requirements.txt"
      ],
      "metadata": {
        "colab": {
          "base_uri": "https://localhost:8080/"
        },
        "id": "Tez02hqZb6gc",
        "outputId": "f260c34f-1236-4dce-8353-e4719f84da62"
      },
      "execution_count": 7,
      "outputs": [
        {
          "output_type": "stream",
          "name": "stdout",
          "text": [
            "streamlit\n",
            "pandas\n",
            "matplotlib\n",
            "seaborn\n",
            "numpy\n",
            "plotly\n"
          ]
        }
      ]
    },
    {
      "cell_type": "code",
      "source": [
        "!pip install -q -r requirements.txt"
      ],
      "metadata": {
        "colab": {
          "base_uri": "https://localhost:8080/"
        },
        "id": "lEZYyTkCb85F",
        "outputId": "be2ec2fa-f61e-48cc-ef58-e664c4a9c7b0"
      },
      "execution_count": 8,
      "outputs": [
        {
          "output_type": "stream",
          "name": "stdout",
          "text": [
            "\u001b[2K     \u001b[90m━━━━━━━━━━━━━━━━━━━━━━━━━━━━━━━━━━━━━━━━\u001b[0m \u001b[32m44.3/44.3 kB\u001b[0m \u001b[31m2.4 MB/s\u001b[0m eta \u001b[36m0:00:00\u001b[0m\n",
            "\u001b[2K   \u001b[90m━━━━━━━━━━━━━━━━━━━━━━━━━━━━━━━━━━━━━━━━\u001b[0m \u001b[32m9.9/9.9 MB\u001b[0m \u001b[31m68.2 MB/s\u001b[0m eta \u001b[36m0:00:00\u001b[0m\n",
            "\u001b[2K   \u001b[90m━━━━━━━━━━━━━━━━━━━━━━━━━━━━━━━━━━━━━━━━\u001b[0m \u001b[32m6.9/6.9 MB\u001b[0m \u001b[31m80.7 MB/s\u001b[0m eta \u001b[36m0:00:00\u001b[0m\n",
            "\u001b[2K   \u001b[90m━━━━━━━━━━━━━━━━━━━━━━━━━━━━━━━━━━━━━━━━\u001b[0m \u001b[32m79.1/79.1 kB\u001b[0m \u001b[31m7.3 MB/s\u001b[0m eta \u001b[36m0:00:00\u001b[0m\n",
            "\u001b[?25h"
          ]
        }
      ]
    },
    {
      "cell_type": "code",
      "source": [
        "!pip list | grep streamlit"
      ],
      "metadata": {
        "colab": {
          "base_uri": "https://localhost:8080/"
        },
        "id": "2QhDqPbbb_U0",
        "outputId": "f9795ec5-11a6-4954-93fa-675992a4a6ec"
      },
      "execution_count": 9,
      "outputs": [
        {
          "output_type": "stream",
          "name": "stdout",
          "text": [
            "streamlit                             1.45.0\n"
          ]
        }
      ]
    },
    {
      "cell_type": "code",
      "source": [
        "!pip install streamlit -q"
      ],
      "metadata": {
        "id": "Ez1IDuQ5cBNx"
      },
      "execution_count": 10,
      "outputs": []
    },
    {
      "cell_type": "code",
      "source": [
        "%%writefile Home.py\n",
        "import streamlit as st\n",
        "\n",
        "# Judul Aplikasi\n",
        "st.title(\"📊 Tugas Visualisasi Data - Pertemuan 5\")\n",
        "\n",
        "# Subjudul\n",
        "st.subheader(\"Deskripsi Tugas\")\n",
        "\n",
        "# Isi Deskripsi\n",
        "st.markdown(\"\"\"\n",
        "Pada tugas ini diminta untuk membangun aplikasi web interaktif menggunakan **Streamlit** yang terdiri dari **5 buah tab**, yaitu:\n",
        "\n",
        "1. **Grafik Area**\n",
        "2. **Grafik Garis (Line Chart)**\n",
        "3. **Grafik Batang (Bar Chart)**\n",
        "4. **Grafik Scatter**\n",
        "5. **Peta (Map)**\n",
        "\n",
        "---\n",
        "### 📁 Dataset yang Digunakan\n",
        "Semua visualisasi akan menggunakan data yang bersumber dari file **`nutrisi.csv`**.\n",
        "Dan juga dataset yang saya gunakan dalam proyek UAS Pengembangan Machine Learning\n",
        "---\n",
        "### 🎯 Tujuan Tugas\n",
        "Melatih kemampuan visualisasi data interaktif berbasis web menggunakan Python dan Streamlit, dengan menampilkan data dalam bentuk grafik yang berbeda sesuai nama tab.\n",
        "\n",
        "---\n",
        "\n",
        "Silakan buka tab yang tersedia pada menu samping untuk melihat masing-masing visualisasi.\n",
        "\"\"\")\n"
      ],
      "metadata": {
        "colab": {
          "base_uri": "https://localhost:8080/"
        },
        "id": "kMlzxj30cExY",
        "outputId": "ff39001b-e51c-4d72-8e5d-eef9a6e0d278"
      },
      "execution_count": 31,
      "outputs": [
        {
          "output_type": "stream",
          "name": "stdout",
          "text": [
            "Writing Home.py\n"
          ]
        }
      ]
    },
    {
      "cell_type": "code",
      "source": [
        "pwd"
      ],
      "metadata": {
        "colab": {
          "base_uri": "https://localhost:8080/",
          "height": 35
        },
        "id": "pYuTDB9lc6lo",
        "outputId": "8a21c05e-dc2f-40b9-beb9-38b4e9e6de46"
      },
      "execution_count": 12,
      "outputs": [
        {
          "output_type": "execute_result",
          "data": {
            "text/plain": [
              "'/content/Pengembangan_Machine_Learning6'"
            ],
            "application/vnd.google.colaboratory.intrinsic+json": {
              "type": "string"
            }
          },
          "metadata": {},
          "execution_count": 12
        }
      ]
    },
    {
      "cell_type": "code",
      "source": [
        "!ls"
      ],
      "metadata": {
        "colab": {
          "base_uri": "https://localhost:8080/"
        },
        "id": "WMjfDMapc86K",
        "outputId": "e41e92dd-a837-41cf-da92-fc938925a942"
      },
      "execution_count": 13,
      "outputs": [
        {
          "output_type": "stream",
          "name": "stdout",
          "text": [
            "Home.py  requirements.txt\n"
          ]
        }
      ]
    },
    {
      "cell_type": "code",
      "source": [
        "!mkdir pages"
      ],
      "metadata": {
        "id": "kPjz6RNjc-4X"
      },
      "execution_count": 14,
      "outputs": []
    },
    {
      "cell_type": "code",
      "source": [
        "!ls"
      ],
      "metadata": {
        "colab": {
          "base_uri": "https://localhost:8080/"
        },
        "id": "L3CB4NhDdBB5",
        "outputId": "eafa0042-9f83-4869-8a79-2289ce34b7e9"
      },
      "execution_count": 15,
      "outputs": [
        {
          "output_type": "stream",
          "name": "stdout",
          "text": [
            "Home.py  pages\trequirements.txt\n"
          ]
        }
      ]
    },
    {
      "cell_type": "code",
      "source": [
        "!ls pages"
      ],
      "metadata": {
        "id": "4yXqya-DdDWW"
      },
      "execution_count": 16,
      "outputs": []
    },
    {
      "cell_type": "markdown",
      "source": [
        "Contoh Pertemuan 5"
      ],
      "metadata": {
        "id": "2WhdMgR6dHyp"
      }
    },
    {
      "cell_type": "code",
      "source": [
        "%%writefile pages/Contoh_Pertemuan_6.py\n",
        "import streamlit as st\n",
        "import pandas as pd\n",
        "\n",
        "# Membuat data contoh\n",
        "data = pd.DataFrame({\n",
        "    'Tahun': [2020,2021,2022,2023],\n",
        "    'Pendapatan': [100, 150, 200, 250]\n",
        "})\n",
        "\n",
        "# Menampilkan grafik area\n",
        "st.area_chart(data.set_index('Tahun'))\n",
        "\n",
        "# Menampilkan grafik garis\n",
        "st.line_chart(data.set_index('Tahun'))\n",
        "\n",
        "# Menampilkan grafik batang\n",
        "st.bar_chart(data.set_index('Tahun'))\n",
        "\n",
        "data2 = pd.DataFrame({\n",
        "    'X': [1,2,3,4,5],\n",
        "    'Y': [2,3,5,7,11]\n",
        "})\n",
        "# Menampilkan grafik sebar\n",
        "st.scatter_chart(data2)\n",
        "\n",
        "# Membuat data koordinat contoh\n",
        "data3 = pd.DataFrame({\n",
        "    'latitude': [40.7128, 34.0522, 51.5074],\n",
        "    'longitude': [-74.0060, -118.2437, -0.1278]\n",
        "})\n",
        "\n",
        "# Menampilkan peta\n",
        "st.map(data3)"
      ],
      "metadata": {
        "colab": {
          "base_uri": "https://localhost:8080/"
        },
        "id": "RPfHXBsadJv_",
        "outputId": "6c0b1f52-b780-44d8-af1e-38130df875d5"
      },
      "execution_count": 17,
      "outputs": [
        {
          "output_type": "stream",
          "name": "stdout",
          "text": [
            "Writing pages/Contoh_Pertemuan_6.py\n"
          ]
        }
      ]
    },
    {
      "cell_type": "markdown",
      "source": [
        "Latihan Pertemuan 5 Menggunakan dataset Nutrition"
      ],
      "metadata": {
        "id": "Z_KgaMxddQyq"
      }
    },
    {
      "cell_type": "code",
      "source": [
        "\n",
        "%%writefile pages/Latihan_Pertemuan_6.py\n",
        "import streamlit as st\n",
        "import pandas as pd\n",
        "import matplotlib.pyplot as plt\n",
        "import plotly.express as px\n",
        "import seaborn as sns\n",
        "import numpy as np\n",
        "\n",
        "# Load dataset\n",
        "df = pd.read_csv('/content/drive/MyDrive/Colab Notebooks/Pengembangan ML (6)/Dataset Latihan Pertemuan 5/nutrition.csv')\n",
        "\n",
        "# Judul aplikasi\n",
        "st.title(\"Visualisasi Nutrisi Produk Susu dengan Tab Interaktif\")\n",
        "st.markdown(\"Visualisasi berbagai jenis grafik berdasarkan informasi nutrisi produk susu\")\n",
        "\n",
        "# Membuat 5 tab\n",
        "tab1, tab2, tab3, tab4, tab5 = st.tabs([\"Grafik Area\", \"Grafik Garis\", \"Grafik Batang\", \"Grafik Scatter\", \"Peta\"])\n",
        "\n",
        "with tab1:\n",
        "    st.header(\"Grafik Area: Kalori dan Lemak\")\n",
        "    fig_area = px.area(df, x='id', y=['calories', 'fat'], title='Area Chart Kalori dan Lemak')\n",
        "    st.plotly_chart(fig_area, use_container_width=True)\n",
        "\n",
        "with tab2:\n",
        "    st.header(\"Grafik Garis: Protein dan Karbohidrat\")\n",
        "    fig_line = px.line(df, x='id', y=['proteins', 'carbohydrate'], color='name', title='Line Chart Protein dan Karbohidrat per Produk')\n",
        "    st.plotly_chart(fig_line, use_container_width=True)\n",
        "\n",
        "with tab3:\n",
        "    st.header(\"Grafik Batang: Rata-rata Nutrisi per Produk (Top 10)\")\n",
        "    top10 = df.groupby('name')[['calories', 'proteins', 'fat', 'carbohydrate']].mean().sort_values('calories', ascending=False).head(10).reset_index()\n",
        "    fig_bar = px.bar(top10, x='name', y=['calories', 'proteins', 'fat', 'carbohydrate'], barmode='group',\n",
        "                     title=\"Rata-rata Nutrisi Top 10 Produk\")\n",
        "    st.plotly_chart(fig_bar, use_container_width=True)\n",
        "\n",
        "with tab4:\n",
        "    st.header(\"Grafik Scatter: Lemak vs Kalori\")\n",
        "    fig_scatter = px.scatter(df, x='fat', y='calories', color='name', title=\"Scatter Plot Lemak vs Kalori\", size='proteins')\n",
        "    st.plotly_chart(fig_scatter, use_container_width=True)\n",
        "\n",
        "with tab5:\n",
        "    st.header(\"Peta: Sebaran Dummy Produk Susu (Dummy Coordinates)\")\n",
        "    df['Latitude'] = np.random.uniform(low=-6.2, high=-6.0, size=len(df))\n",
        "    df['Longitude'] = np.random.uniform(low=106.7, high=107.0, size=len(df))\n",
        "\n",
        "    fig_map = px.scatter_mapbox(df, lat='Latitude', lon='Longitude', color='name', zoom=9,\n",
        "                                mapbox_style=\"carto-positron\", title=\"Sebaran Dummy Produk Susu di Peta\")\n",
        "    st.plotly_chart(fig_map, use_container_width=True)\n"
      ],
      "metadata": {
        "colab": {
          "base_uri": "https://localhost:8080/"
        },
        "id": "L17rvaojdUlP",
        "outputId": "ba85a5a9-930b-4254-e593-6a5b3d0e61ea"
      },
      "execution_count": 18,
      "outputs": [
        {
          "output_type": "stream",
          "name": "stdout",
          "text": [
            "Writing pages/Latihan_Pertemuan_6.py\n"
          ]
        }
      ]
    },
    {
      "cell_type": "markdown",
      "source": [
        "Tugas Pertuam 6 Menggunakan dataset proyek"
      ],
      "metadata": {
        "id": "grnrhBwTeLqv"
      }
    },
    {
      "cell_type": "code",
      "source": [
        "import pandas as pd"
      ],
      "metadata": {
        "id": "zMCpaOpOejxi"
      },
      "execution_count": 22,
      "outputs": []
    },
    {
      "cell_type": "code",
      "source": [
        "data = pd.read_csv('/content/drive/MyDrive/Colab Notebooks/SISTEM CERDAS/Dataset/BTS_Desember.csv')\n",
        "data.info()"
      ],
      "metadata": {
        "colab": {
          "base_uri": "https://localhost:8080/"
        },
        "id": "669i7JWUdZhD",
        "outputId": "22ee81e2-6aec-41d0-a902-623662a1c7f6"
      },
      "execution_count": 23,
      "outputs": [
        {
          "output_type": "stream",
          "name": "stdout",
          "text": [
            "<class 'pandas.core.frame.DataFrame'>\n",
            "RangeIndex: 590581 entries, 0 to 590580\n",
            "Data columns (total 27 columns):\n",
            " #   Column               Non-Null Count   Dtype  \n",
            "---  ------               --------------   -----  \n",
            " 0   YEAR                 590581 non-null  int64  \n",
            " 1   MONTH                590581 non-null  int64  \n",
            " 2   DAY_OF_WEEK          590581 non-null  int64  \n",
            " 3   FL_DATE              590581 non-null  object \n",
            " 4   OP_UNIQUE_CARRIER    590581 non-null  object \n",
            " 5   OP_CARRIER_FL_NUM    590581 non-null  int64  \n",
            " 6   ORIGIN               590581 non-null  object \n",
            " 7   ORIGIN_CITY_NAME     590581 non-null  object \n",
            " 8   ORIGIN_STATE_NM      590581 non-null  object \n",
            " 9   DEST                 590581 non-null  object \n",
            " 10  DEST_CITY_NAME       590581 non-null  object \n",
            " 11  DEST_STATE_NM        590581 non-null  object \n",
            " 12  WHEELS_ON            586180 non-null  float64\n",
            " 13  TAXI_IN              586180 non-null  float64\n",
            " 14  CRS_ARR_TIME         590581 non-null  int64  \n",
            " 15  ARR_TIME             586180 non-null  float64\n",
            " 16  ARR_DELAY_NEW        584832 non-null  float64\n",
            " 17  ARR_TIME_BLK         590581 non-null  object \n",
            " 18  CANCELLED            590581 non-null  float64\n",
            " 19  DIVERTED             590581 non-null  float64\n",
            " 20  AIR_TIME             584832 non-null  float64\n",
            " 21  DISTANCE             590581 non-null  float64\n",
            " 22  CARRIER_DELAY        123721 non-null  float64\n",
            " 23  WEATHER_DELAY        123721 non-null  float64\n",
            " 24  NAS_DELAY            123721 non-null  float64\n",
            " 25  SECURITY_DELAY       123721 non-null  float64\n",
            " 26  LATE_AIRCRAFT_DELAY  123721 non-null  float64\n",
            "dtypes: float64(13), int64(5), object(9)\n",
            "memory usage: 121.7+ MB\n"
          ]
        }
      ]
    },
    {
      "cell_type": "code",
      "source": [
        "%%writefile pages/Tugas_Pertemuan_6.py\n",
        "import streamlit as st\n",
        "import pandas as pd\n",
        "import matplotlib.pyplot as plt\n",
        "import seaborn as sns\n",
        "\n",
        "# Memuat data BTS Desember\n",
        "data = pd.read_csv('/content/drive/MyDrive/Colab Notebooks/SISTEM CERDAS/Dataset/BTS_Desember.csv')\n",
        "\n",
        "# Menyiapkan kolom untuk tab\n",
        "tabs = [\"Grafik Area\", \"Grafik Garis\", \"Grafik Batang\", \"Grafik Scatter\", \"Peta\"]\n",
        "selected_tab = st.sidebar.radio(\"Pilih Grafik:\", tabs)\n",
        "\n",
        "# Menampilkan data\n",
        "st.title(\"Dashboard Data Penerbangan (BTS Desember)\")\n",
        "st.write(\"Data Sampel Penerbangan Amerika Serikat - Desember\")\n",
        "st.write(data.head())\n",
        "\n",
        "# Memastikan kolom numerik yang sesuai\n",
        "numerik_data = data[['ARR_DELAY_NEW', 'AIR_TIME', 'DISTANCE', 'CANCELLED', 'DIVERTED']]\n",
        "\n",
        "# Grafik Area\n",
        "if selected_tab == \"Grafik Area\":\n",
        "    st.subheader(\"Grafik Area\")\n",
        "    try:\n",
        "        st.area_chart(numerik_data)\n",
        "    except:\n",
        "        st.warning(\"Tidak dapat menampilkan grafik area. Pastikan hanya data numerik.\")\n",
        "\n",
        "# Grafik Garis\n",
        "elif selected_tab == \"Grafik Garis\":\n",
        "    st.subheader(\"Grafik Garis\")\n",
        "    try:\n",
        "        st.line_chart(numerik_data)\n",
        "    except:\n",
        "        st.warning(\"Tidak dapat menampilkan grafik garis. Pastikan hanya data numerik.\")\n",
        "\n",
        "# Grafik Batang\n",
        "elif selected_tab == \"Grafik Batang\":\n",
        "    st.subheader(\"Grafik Batang\")\n",
        "    try:\n",
        "        st.bar_chart(numerik_data)\n",
        "    except:\n",
        "        st.warning(\"Tidak dapat menampilkan grafik batang. Pastikan hanya data numerik.\")\n",
        "\n",
        "# Grafik Scatter\n",
        "elif selected_tab == \"Grafik Scatter\":\n",
        "    st.subheader(\"Grafik Scatter\")\n",
        "    numeric_columns = numerik_data.columns.tolist()\n",
        "    if len(numeric_columns) >= 2:\n",
        "        x_axis = st.selectbox(\"Pilih sumbu X:\", numeric_columns)\n",
        "        y_axis = st.selectbox(\"Pilih sumbu Y:\", numeric_columns, index=1)\n",
        "        fig, ax = plt.subplots()\n",
        "        sns.scatterplot(data=data, x=x_axis, y=y_axis, ax=ax)\n",
        "        st.pyplot(fig)\n",
        "    else:\n",
        "        st.warning(\"Tidak cukup data numerik untuk scatter plot.\")\n",
        "\n",
        "# Peta\n",
        "elif selected_tab == \"Peta\":\n",
        "    st.subheader(\"Peta Penerbangan\")\n",
        "    if 'latitude' in data.columns and 'longitude' in data.columns:\n",
        "        st.map(data[['latitude', 'longitude']])\n",
        "    else:\n",
        "        st.warning(\"Data tidak memiliki kolom latitude dan longitude.\")\n"
      ],
      "metadata": {
        "colab": {
          "base_uri": "https://localhost:8080/"
        },
        "id": "0URNeV98etk2",
        "outputId": "2c587dad-8ef5-4942-ac2c-90ccbf8789b1"
      },
      "execution_count": 55,
      "outputs": [
        {
          "output_type": "stream",
          "name": "stdout",
          "text": [
            "Overwriting pages/Tugas_Pertemuan_6.py\n"
          ]
        }
      ]
    },
    {
      "cell_type": "markdown",
      "source": [
        "Jalankan"
      ],
      "metadata": {
        "id": "OrI5xFjxeyzz"
      }
    },
    {
      "cell_type": "code",
      "source": [
        "!npm install localtunnel"
      ],
      "metadata": {
        "colab": {
          "base_uri": "https://localhost:8080/"
        },
        "id": "t98AfvuDe0Ai",
        "outputId": "6ef20274-fb6f-4e2e-b197-f4302835e1fe"
      },
      "execution_count": 56,
      "outputs": [
        {
          "output_type": "stream",
          "name": "stdout",
          "text": [
            "\u001b[1G\u001b[0K⠙\u001b[1G\u001b[0K⠹\u001b[1G\u001b[0K⠸\u001b[1G\u001b[0K⠼\u001b[1G\u001b[0K⠴\u001b[1G\u001b[0K\n",
            "up to date, audited 23 packages in 863ms\n",
            "\u001b[1G\u001b[0K⠴\u001b[1G\u001b[0K\n",
            "\u001b[1G\u001b[0K⠴\u001b[1G\u001b[0K3 packages are looking for funding\n",
            "\u001b[1G\u001b[0K⠴\u001b[1G\u001b[0K  run `npm fund` for details\n",
            "\u001b[1G\u001b[0K⠴\u001b[1G\u001b[0K\n",
            "2 \u001b[31m\u001b[1mhigh\u001b[22m\u001b[39m severity vulnerabilities\n",
            "\n",
            "To address all issues (including breaking changes), run:\n",
            "  npm audit fix --force\n",
            "\n",
            "Run `npm audit` for details.\n",
            "\u001b[1G\u001b[0K⠴\u001b[1G\u001b[0K"
          ]
        }
      ]
    },
    {
      "cell_type": "code",
      "source": [
        "#Kalo ada yg error atau modifikasi, berhentiin dulu tunnelnya. Run sel yg mau dimodifikasi. Baru run lagi dari sini sampe muncul link tunnel yg baru.\n",
        "!streamlit run /content/Pengembangan_Machine_Learning6/Home.py &>/content/Pengembangan_Machine_Learning6/logs.txt &"
      ],
      "metadata": {
        "id": "ln-ggXOqe23e"
      },
      "execution_count": 57,
      "outputs": []
    },
    {
      "cell_type": "code",
      "source": [
        "!timeout 30 cat /content/Pengembangan_Machine_Learning6/logs.txt"
      ],
      "metadata": {
        "colab": {
          "base_uri": "https://localhost:8080/"
        },
        "id": "O9EeFQj6e7m4",
        "outputId": "3b7b79c3-ee5a-4c02-bc1c-6152f736258b"
      },
      "execution_count": 51,
      "outputs": [
        {
          "output_type": "stream",
          "name": "stdout",
          "text": [
            "\n",
            "Collecting usage statistics. To deactivate, set browser.gatherUsageStats to false.\n",
            "\n",
            "\n",
            "  You can now view your Streamlit app in your browser.\n",
            "\n",
            "  Local URL: http://localhost:8501\n",
            "  Network URL: http://172.28.0.12:8501\n",
            "  External URL: http://34.19.9.49:8501\n",
            "\n"
          ]
        }
      ]
    },
    {
      "cell_type": "code",
      "source": [
        "import requests\n",
        "requests.get('https://api.ipify.org').text"
      ],
      "metadata": {
        "colab": {
          "base_uri": "https://localhost:8080/",
          "height": 35
        },
        "id": "IvVBu25MfABh",
        "outputId": "76e044f1-ce5e-4245-8ea4-ea44fb0eba88"
      },
      "execution_count": 58,
      "outputs": [
        {
          "output_type": "execute_result",
          "data": {
            "text/plain": [
              "'34.19.9.49'"
            ],
            "application/vnd.google.colaboratory.intrinsic+json": {
              "type": "string"
            }
          },
          "metadata": {},
          "execution_count": 58
        }
      ]
    },
    {
      "cell_type": "code",
      "source": [
        "!npx localtunnel --port 8501"
      ],
      "metadata": {
        "colab": {
          "base_uri": "https://localhost:8080/"
        },
        "id": "umK1Pu1nfCdP",
        "outputId": "26ace0f3-a389-4497-8b6a-0de9371aff35"
      },
      "execution_count": null,
      "outputs": [
        {
          "output_type": "stream",
          "name": "stdout",
          "text": [
            "\u001b[1G\u001b[0K⠙\u001b[1G\u001b[0Kyour url is: https://bitter-olives-obey.loca.lt\n"
          ]
        }
      ]
    }
  ]
}